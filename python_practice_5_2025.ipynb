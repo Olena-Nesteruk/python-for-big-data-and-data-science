{
  "nbformat": 4,
  "nbformat_minor": 0,
  "metadata": {
    "colab": {
      "provenance": []
    },
    "kernelspec": {
      "name": "python3",
      "display_name": "Python 3"
    },
    "language_info": {
      "name": "python"
    }
  },
  "cells": [
    {
      "cell_type": "markdown",
      "source": [
        "# I. OOP"
      ],
      "metadata": {
        "id": "5qV_sehzFCTp"
      }
    },
    {
      "cell_type": "markdown",
      "source": [
        "1. (6б). Створіть клас Building, додайте три атрибути, один з яких має значення за замовчуванням та два методи на свій розсуд."
      ],
      "metadata": {
        "id": "tx_U_hOALyfg"
      }
    },
    {
      "cell_type": "code",
      "source": [
        "class Building:\n",
        "    def __init__(self, address, area, floors=1):\n",
        "        self.address = address\n",
        "        self.area = area\n",
        "        self.floors = floors\n",
        "\n",
        "    def total_area(self):\n",
        "        return self.area * self.floors\n",
        "\n",
        "    def display_info(self):\n",
        "        print(f\"Address: {self.address}\")\n",
        "        print(f\"Area of one floor: {self.area} м²\")\n",
        "        print(f\"Number of floors: {self.floors}\")\n",
        "        print(f\"Total area: {self.total_area()} м²\")"
      ],
      "metadata": {
        "id": "-Vf895KaL88N"
      },
      "execution_count": 93,
      "outputs": []
    },
    {
      "cell_type": "markdown",
      "source": [
        "2. (2б). Створіть два обʼєкти цього класу, де один з обʼєктів створюється із дефолтним значенням атрибуту. На одному обʼєкті отримайте значення його атрибуту, а на іншому викличте один з його методів."
      ],
      "metadata": {
        "id": "X_UlOMB0L93w"
      }
    },
    {
      "cell_type": "code",
      "source": [
        "building_stusa_21 = Building(\"V. Stusa Street, 21\", 100, 3)\n",
        "building_chornovola_3 = Building(\"V. Chornovola Street, 3\", 80)\n",
        "\n",
        "print(f\"Building on Stusa street address: {building_stusa_21.address}\")\n",
        "\n",
        "building_chornovola_3.display_info()"
      ],
      "metadata": {
        "id": "7gBu0ESOMCpG",
        "colab": {
          "base_uri": "https://localhost:8080/"
        },
        "outputId": "379f3f34-259d-47a8-a5c9-0250f2a35406"
      },
      "execution_count": 94,
      "outputs": [
        {
          "output_type": "stream",
          "name": "stdout",
          "text": [
            "Building on Stusa street address: V. Stusa Street, 21\n",
            "Address: V. Chornovola Street, 3\n",
            "Area of one floor: 80 м²\n",
            "Number of floors: 1\n",
            "Total area: 80 м²\n"
          ]
        }
      ]
    },
    {
      "cell_type": "markdown",
      "source": [
        "3. (5б). Створіть клас, де атрибути мають різні рівні доступу. Спробуйте отримати їхні значення та опишіть результати."
      ],
      "metadata": {
        "id": "HoqSCZt1MHn5"
      }
    },
    {
      "cell_type": "code",
      "source": [
        "class House:\n",
        "    def __init__(self, address, area, owner):\n",
        "        self.address = address\n",
        "        self._area = area\n",
        "        self.__owner = owner\n",
        "\n",
        "    def get_owner(self):\n",
        "        return self.__owner\n",
        "\n",
        "    def set_owner(self, new_owner):\n",
        "        self.__owner = new_owner\n",
        "\n",
        "house1 = House(\"Vodopyina street, 20\", 69, \"Omelchenko Volodymyr\")\n",
        "\n",
        "print(f\"Address: {house1.address}\")\n",
        "print(f\"Area: {house1._area} м²\")\n",
        "\n",
        "try:\n",
        "    print(f\"Owner: {house1.__owner}\")\n",
        "except AttributeError:\n",
        "    print(\"Cannot access private attribute directly\")\n",
        "\n",
        "print(f\"Owner: {house1.get_owner()}\")"
      ],
      "metadata": {
        "id": "r9b3vJxBMSPV",
        "colab": {
          "base_uri": "https://localhost:8080/"
        },
        "outputId": "1f9e308a-f37a-409c-e57f-d0d10d189593"
      },
      "execution_count": 95,
      "outputs": [
        {
          "output_type": "stream",
          "name": "stdout",
          "text": [
            "Address: Vodopyina street, 20\n",
            "Area: 69 м²\n",
            "Cannot access private attribute directly\n",
            "Owner: Omelchenko Volodymyr\n"
          ]
        }
      ]
    },
    {
      "cell_type": "markdown",
      "source": [
        "**Пояснення результатів**: атрибут adress публічний і доступний як всередині класу, так і поза ним, тому ми можемо отримати до нього доступ напряму. Атрибут _area хоч і є захищеним, до нього все одно можна звернутись і змінювати поза класом, він лише показує іншим програмістам, що його краще не чіпати.  Атрибут __owner є приватним, тому напряму до нього звернутися не можна (видасть помилку), а тільки через окремо створені для цього методи."
      ],
      "metadata": {
        "id": "9t9uOV1zhbRx"
      }
    },
    {
      "cell_type": "markdown",
      "source": [
        "4. (7б). Як ви розумієте термін self? Для чого використовується метод __init __?"
      ],
      "metadata": {
        "id": "5op2m2vgMSkZ"
      }
    },
    {
      "cell_type": "markdown",
      "source": [
        "self це посилання на поточний об'єкт класу, використовується для доступу до атрибутів і методів конкретного екземпляра класу. Метод __ init __ є конструктором класу, він автоматично викликається при створенні нового об'єкта  і використовується для ініціалізації його атрибутів."
      ],
      "metadata": {
        "id": "DyiPqNRvMasx"
      }
    },
    {
      "cell_type": "markdown",
      "source": [
        "5. (9б). Створіть клас 3D-фігура без атрибутів, з методом get_volume для отримання об'єму фігури, що повертає 0 та __add __, який приймає self та other в якості аргументів, а повертає суму об'ємів 3d-фігур self та other."
      ],
      "metadata": {
        "id": "-6X8EGfjMd2y"
      }
    },
    {
      "cell_type": "code",
      "source": [
        "class ThreeDFigure:\n",
        "    def get_volume(self):\n",
        "        return 0\n",
        "\n",
        "    def __add__(self, other):\n",
        "        return self.get_volume() + other.get_volume()"
      ],
      "metadata": {
        "id": "4rvO_wYUMaEr"
      },
      "execution_count": 96,
      "outputs": []
    },
    {
      "cell_type": "markdown",
      "source": [
        "6. (11б). Створіть 2 дочірніх класи від 3d-фігура: Циліндр та Куб, які мають атрибути, необхідні для розрахунку об'єму. Визначте метод get_volume в кожному з них так, щоби вони розраховували об'єм у залежності від формули для кожного типу фігури. Створіть обʼєкт класу Циліндр та обʼєкт класу Куб. Виконайте операцію суми за допомогою оператора + між ними, аби знайти сумарний об'єм."
      ],
      "metadata": {
        "id": "SFcKnnv5Mo_z"
      }
    },
    {
      "cell_type": "code",
      "source": [
        "class Cylinder(ThreeDFigure):\n",
        "    def __init__(self, radius, height):\n",
        "        self.radius = radius\n",
        "        self.height = height\n",
        "\n",
        "    def get_volume(self):\n",
        "        return 3.14 * self.radius**2 * self.height\n",
        "\n",
        "class Cube(ThreeDFigure):\n",
        "    def __init__(self, side):\n",
        "        self.side = side\n",
        "\n",
        "    def get_volume(self):\n",
        "        return self.side**3\n",
        "\n",
        "cylinder = Cylinder(2, 11)\n",
        "cube = Cube(7)\n",
        "\n",
        "total_volume_cylinder_and_cube = cylinder + cube\n",
        "\n",
        "print(f\"Cylinder volume: {cylinder.get_volume()}\")\n",
        "print(f\"Cube volume: {cube.get_volume()}\")\n",
        "print(f\"Total volume: {total_volume_cylinder_and_cube}\")"
      ],
      "metadata": {
        "id": "H3GVNr69Muf3",
        "colab": {
          "base_uri": "https://localhost:8080/"
        },
        "outputId": "21d7139d-f5b1-4ff2-899e-de1703a17f00"
      },
      "execution_count": 97,
      "outputs": [
        {
          "output_type": "stream",
          "name": "stdout",
          "text": [
            "Cylinder volume: 138.16\n",
            "Cube volume: 343\n",
            "Total volume: 481.15999999999997\n"
          ]
        }
      ]
    },
    {
      "cell_type": "markdown",
      "source": [
        "7. (3б). Продемонструйте різницю між isinstance та issubclass."
      ],
      "metadata": {
        "id": "HCvR206YMvLK"
      }
    },
    {
      "cell_type": "code",
      "source": [
        "print(isinstance(cylinder, Cylinder))\n",
        "print(isinstance(cylinder, ThreeDFigure))\n",
        "print(isinstance(cube, ThreeDFigure))\n",
        "print(isinstance(cylinder, Cube))\n",
        "\n",
        "print(issubclass(Cylinder, ThreeDFigure))\n",
        "print(issubclass(Cube, ThreeDFigure))\n",
        "print(issubclass(Cylinder, Cube))\n",
        "print(issubclass(ThreeDFigure, Cylinder))"
      ],
      "metadata": {
        "id": "L_V1bBvDM0GN",
        "colab": {
          "base_uri": "https://localhost:8080/"
        },
        "outputId": "5f5636e1-4bcf-47f0-b4cd-f6f0c0fe2c3f"
      },
      "execution_count": 98,
      "outputs": [
        {
          "output_type": "stream",
          "name": "stdout",
          "text": [
            "True\n",
            "True\n",
            "True\n",
            "False\n",
            "True\n",
            "True\n",
            "False\n",
            "False\n"
          ]
        }
      ]
    },
    {
      "cell_type": "markdown",
      "source": [
        "8. (13б). Створіть клас EWallet з приватними атрибутами balance та id. Реалізуйте методи поповнення та зняття коштів, забезпечивши належну інкапсуляцію. Підказка: використовуйте декоратори property та setter."
      ],
      "metadata": {
        "id": "jjsaBZ-iM0Qq"
      }
    },
    {
      "cell_type": "code",
      "source": [
        "class EWallet:\n",
        "    def __init__(self, wallet_id, initial_balance=0):\n",
        "        self.__balance = initial_balance\n",
        "        self.__id = wallet_id\n",
        "\n",
        "    @property\n",
        "    def balance(self):\n",
        "        return self.__balance\n",
        "\n",
        "    @property\n",
        "    def id(self):\n",
        "        return self.__id\n",
        "\n",
        "    def deposit(self, amount):\n",
        "        if amount > 0:\n",
        "            self.__balance += amount\n",
        "            print(f\"Top up by {amount}. New balance: {self.__balance}\")\n",
        "\n",
        "    def withdraw(self, amount):\n",
        "        if 0 < amount <= self.__balance:\n",
        "            self.__balance -= amount\n",
        "            print(f\"Withdrawn {amount}. Current balance: {self.__balance}\")\n",
        "        else:\n",
        "            print(\"Not enough money to withdrawn\")\n",
        "\n",
        "wallet = EWallet(wallet_id=\"567898765\", initial_balance=95)\n",
        "print(f\"Wallet ID: {wallet.id}\")\n",
        "print(f\"Initial balance: {wallet.balance}\")\n",
        "\n",
        "wallet.deposit(5)\n",
        "wallet.withdraw(41)\n",
        "wallet.withdraw(500)"
      ],
      "metadata": {
        "id": "xCvZ7lh8M7YA",
        "colab": {
          "base_uri": "https://localhost:8080/"
        },
        "outputId": "d7a40781-c0d6-469f-be47-bb5940aa1c44"
      },
      "execution_count": 99,
      "outputs": [
        {
          "output_type": "stream",
          "name": "stdout",
          "text": [
            "Wallet ID: 567898765\n",
            "Initial balance: 95\n",
            "Top up by 5. New balance: 100\n",
            "Withdrawn 41. Current balance: 59\n",
            "Not enough money to withdrawn\n"
          ]
        }
      ]
    },
    {
      "cell_type": "markdown",
      "source": [
        "9. (11б). Створіть клас ShoppingCart, який містить список об'єктів типу Item. Реалізуйте методи для додавання айтемів, їх видалення та відображення списку айтемів."
      ],
      "metadata": {
        "id": "tIzL2SJTM8ft"
      }
    },
    {
      "cell_type": "code",
      "source": [
        "class Item:\n",
        "    def __init__(self, name, price):\n",
        "        self.name = name\n",
        "        self.price = price\n",
        "\n",
        "    def __str__(self):\n",
        "        return f\"{self.name} - ₴{self.price:.2f}\"\n",
        "\n",
        "class ShoppingCart:\n",
        "    def __init__(self):\n",
        "        self.items = []\n",
        "\n",
        "    def add_item(self, item):\n",
        "        self.items.append(item)\n",
        "        print(f\"Added: {item}\")\n",
        "\n",
        "    def remove_item(self, item_name):\n",
        "        self.items = [item for item in self.items if item.name != item_name]\n",
        "        print(f\"Deleted: {item}\")\n",
        "\n",
        "    def display_items(self):\n",
        "        print(\"Your cart contains:\" if self.items else \"Cart is empty.\")\n",
        "        for item in self.items:\n",
        "            print(item)\n",
        "\n",
        "cart = ShoppingCart()\n",
        "items = [Item(\"Cheese\", 54.90), Item(\"Milk\", 48.30), Item(\"Bread\", 22.99), Item(\"Apple\", 8.00), Item(\"Potato\", 4.00)]\n",
        "\n",
        "for item in items:\n",
        "    cart.add_item(item)\n",
        "\n",
        "cart.display_items()\n",
        "cart.remove_item(\"Potato\")\n",
        "cart.display_items()"
      ],
      "metadata": {
        "id": "HWxfJKLtNAUZ",
        "colab": {
          "base_uri": "https://localhost:8080/"
        },
        "outputId": "8bb33c2e-1f2d-4085-881b-c0798ce7c7db"
      },
      "execution_count": 100,
      "outputs": [
        {
          "output_type": "stream",
          "name": "stdout",
          "text": [
            "Added: Cheese - ₴54.90\n",
            "Added: Milk - ₴48.30\n",
            "Added: Bread - ₴22.99\n",
            "Added: Apple - ₴8.00\n",
            "Added: Potato - ₴4.00\n",
            "Your cart contains:\n",
            "Cheese - ₴54.90\n",
            "Milk - ₴48.30\n",
            "Bread - ₴22.99\n",
            "Apple - ₴8.00\n",
            "Potato - ₴4.00\n",
            "Deleted: Potato - ₴4.00\n",
            "Your cart contains:\n",
            "Cheese - ₴54.90\n",
            "Milk - ₴48.30\n",
            "Bread - ₴22.99\n",
            "Apple - ₴8.00\n"
          ]
        }
      ]
    },
    {
      "cell_type": "markdown",
      "source": [
        "10. (13б). Створіть клас Vehicle з атрибутами brand (manufacturer) та production_age. Створіть ще один клас Engine з такими атрибутами, як type (ex. petrol) та size (volume, litres). Створіть клас Car, який успадковує обидва класи Vehicle та Engine. Продемонструйте використання множинної спадковості, створивши обʼєкт класу Car та отримавши mro для цього класу."
      ],
      "metadata": {
        "id": "lmV8pAwwNIqu"
      }
    },
    {
      "cell_type": "code",
      "source": [
        "class Vehicle:\n",
        "    def __init__(self, brand, production_age):\n",
        "        self.brand = brand\n",
        "        self.production_age = production_age\n",
        "\n",
        "    def get_vehicle_info(self):\n",
        "        return f\"Brand: {self.brand}, Production age: {self.production_age}\"\n",
        "\n",
        "\n",
        "class Engine:\n",
        "    def __init__(self, engine_type, size):\n",
        "        self.engine_type = engine_type\n",
        "        self.size = size\n",
        "\n",
        "    def get_engine_info(self):\n",
        "        return f\"Engine type: {self.engine_type}, Size: {self.size}L\"\n",
        "\n",
        "\n",
        "class Car(Vehicle, Engine):\n",
        "    def __init__(self, brand, production_age, engine_type, size, model):\n",
        "        Vehicle.__init__(self, brand, production_age)\n",
        "        Engine.__init__(self, engine_type, size)\n",
        "        self.model = model\n",
        "\n",
        "    def get_car_info(self):\n",
        "        return f\"{self.get_vehicle_info()}, Model: {self.model}, {self.get_engine_info()}\"\n",
        "\n",
        "volkswagen_touareg_2024 = Car(\"Volkswagen\", 2024, \"Petrol\", 3.0, \"Touareg\")\n",
        "\n",
        "print(volkswagen_touareg_2024.get_car_info())\n",
        "print(\"Method resolution order: \", Car.mro())"
      ],
      "metadata": {
        "id": "R49grKlWNPeN",
        "colab": {
          "base_uri": "https://localhost:8080/"
        },
        "outputId": "cb529cba-4c10-4c20-c5a8-894dcd0bf57c"
      },
      "execution_count": 101,
      "outputs": [
        {
          "output_type": "stream",
          "name": "stdout",
          "text": [
            "Brand: Volkswagen, Production age: 2024, Model: Touareg, Engine type: Petrol, Size: 3.0L\n",
            "Method resolution order:  [<class '__main__.Car'>, <class '__main__.Vehicle'>, <class '__main__.Engine'>, <class 'object'>]\n"
          ]
        }
      ]
    },
    {
      "cell_type": "markdown",
      "source": [
        "# II. Iterator"
      ],
      "metadata": {
        "id": "dIJyUiNBFG8G"
      }
    },
    {
      "cell_type": "markdown",
      "source": [
        "11. (4б). Визначте рядок(str) з 4ма різними за значенням символами. Створіть ітератор на основі цього рядка. Викличте 5 разів функцію next на ітераторі, 4ри перших з них огорніть у ф-цію print()."
      ],
      "metadata": {
        "id": "13vsm0NyKIzL"
      }
    },
    {
      "cell_type": "code",
      "source": [
        "string = \"3n@O\"\n",
        "iterator = iter(string)\n",
        "\n",
        "print(next(iterator))\n",
        "print(next(iterator))\n",
        "print(next(iterator))\n",
        "print(next(iterator))\n",
        "\n",
        "next(iterator)"
      ],
      "metadata": {
        "id": "81ntabAkKuz-",
        "colab": {
          "base_uri": "https://localhost:8080/",
          "height": 251
        },
        "outputId": "48c0b4ae-d541-4108-a8bc-bac65a2ffa03"
      },
      "execution_count": 102,
      "outputs": [
        {
          "output_type": "stream",
          "name": "stdout",
          "text": [
            "3\n",
            "n\n",
            "@\n",
            "O\n"
          ]
        },
        {
          "output_type": "error",
          "ename": "StopIteration",
          "evalue": "",
          "traceback": [
            "\u001b[0;31m---------------------------------------------------------------------------\u001b[0m",
            "\u001b[0;31mStopIteration\u001b[0m                             Traceback (most recent call last)",
            "\u001b[0;32m<ipython-input-102-c4b0962bcc3b>\u001b[0m in \u001b[0;36m<cell line: 0>\u001b[0;34m()\u001b[0m\n\u001b[1;32m      7\u001b[0m \u001b[0mprint\u001b[0m\u001b[0;34m(\u001b[0m\u001b[0mnext\u001b[0m\u001b[0;34m(\u001b[0m\u001b[0miterator\u001b[0m\u001b[0;34m)\u001b[0m\u001b[0;34m)\u001b[0m\u001b[0;34m\u001b[0m\u001b[0;34m\u001b[0m\u001b[0m\n\u001b[1;32m      8\u001b[0m \u001b[0;34m\u001b[0m\u001b[0m\n\u001b[0;32m----> 9\u001b[0;31m \u001b[0mnext\u001b[0m\u001b[0;34m(\u001b[0m\u001b[0miterator\u001b[0m\u001b[0;34m)\u001b[0m\u001b[0;34m\u001b[0m\u001b[0;34m\u001b[0m\u001b[0m\n\u001b[0m",
            "\u001b[0;31mStopIteration\u001b[0m: "
          ]
        }
      ]
    },
    {
      "cell_type": "markdown",
      "source": [
        "А що якщо викликати цю ж функцію на рядку?"
      ],
      "metadata": {
        "id": "aekWHGXOLRsO"
      }
    },
    {
      "cell_type": "code",
      "source": [
        "string = \"3n@O\"\n",
        "print(next(string))"
      ],
      "metadata": {
        "id": "mxATGsErLV1i",
        "colab": {
          "base_uri": "https://localhost:8080/",
          "height": 162
        },
        "outputId": "56b559f1-75b5-4540-9b20-855504ca38a9"
      },
      "execution_count": 103,
      "outputs": [
        {
          "output_type": "error",
          "ename": "TypeError",
          "evalue": "'str' object is not an iterator",
          "traceback": [
            "\u001b[0;31m---------------------------------------------------------------------------\u001b[0m",
            "\u001b[0;31mTypeError\u001b[0m                                 Traceback (most recent call last)",
            "\u001b[0;32m<ipython-input-103-161fc61f42b1>\u001b[0m in \u001b[0;36m<cell line: 0>\u001b[0;34m()\u001b[0m\n\u001b[1;32m      1\u001b[0m \u001b[0mstring\u001b[0m \u001b[0;34m=\u001b[0m \u001b[0;34m\"3n@O\"\u001b[0m\u001b[0;34m\u001b[0m\u001b[0;34m\u001b[0m\u001b[0m\n\u001b[0;32m----> 2\u001b[0;31m \u001b[0mprint\u001b[0m\u001b[0;34m(\u001b[0m\u001b[0mnext\u001b[0m\u001b[0;34m(\u001b[0m\u001b[0mstring\u001b[0m\u001b[0;34m)\u001b[0m\u001b[0;34m)\u001b[0m\u001b[0;34m\u001b[0m\u001b[0;34m\u001b[0m\u001b[0m\n\u001b[0m",
            "\u001b[0;31mTypeError\u001b[0m: 'str' object is not an iterator"
          ]
        }
      ]
    },
    {
      "cell_type": "markdown",
      "source": [
        " 12. (5б). Опишіть своїми словами в одному реченні, як ви розумієте різницю між ітерабельними обʼєктами та ітераторами (можна на прикладі)."
      ],
      "metadata": {
        "id": "XwtMEopwJ4pH"
      }
    },
    {
      "cell_type": "markdown",
      "source": [
        "Ітератор це механізм поелементного обходу даних, його основна мета полягає у відстеженні наступного елемента у послідовності, а ітерабельний об'єкт — це об'єкт, який містить дані та дозволяє створювати нові ітератори."
      ],
      "metadata": {
        "id": "-sHrODc3KFn8"
      }
    },
    {
      "cell_type": "markdown",
      "source": [
        "13. (11б). Створіть клас, що має визначений Iterator Protocol та при кожному виклику next повертає назву дня тижня, поки вони не вичерпаються. Зверніть увагу, що порядок має значення."
      ],
      "metadata": {
        "id": "E9qJWmNbK8Gl"
      }
    },
    {
      "cell_type": "code",
      "source": [
        "class WeekDaysIterator:\n",
        "    def __init__(self):\n",
        "        self.days = [\"Monday\", \"Tuesday\", \"Wednesday\", \"Thursday\", \"Friday\", \"Saturday\", \"Sunday\"]\n",
        "        self.index = 0\n",
        "\n",
        "    def __iter__(self):\n",
        "        return self\n",
        "\n",
        "    def __next__(self):\n",
        "        if self.index >= len(self.days):\n",
        "            raise StopIteration\n",
        "        day = self.days[self.index]\n",
        "        self.index += 1\n",
        "        return day\n",
        "\n",
        "week_iterator = WeekDaysIterator()\n",
        "\n",
        "for day in week_iterator:\n",
        "    print(day)"
      ],
      "metadata": {
        "id": "cqx-g_RsLo6I",
        "colab": {
          "base_uri": "https://localhost:8080/"
        },
        "outputId": "24fb3c29-741c-4f47-ae96-67797f85b75f"
      },
      "execution_count": 104,
      "outputs": [
        {
          "output_type": "stream",
          "name": "stdout",
          "text": [
            "Monday\n",
            "Tuesday\n",
            "Wednesday\n",
            "Thursday\n",
            "Friday\n",
            "Saturday\n",
            "Sunday\n"
          ]
        }
      ]
    },
    {
      "cell_type": "markdown",
      "source": [
        "# Вітаю! Ви велика(ий) молодець, що впоралась(вся). Похваліть себе та побалуйте чимось приємним. Я Вами пишаюся."
      ],
      "metadata": {
        "id": "Z3E3S_s1Fv7-"
      }
    }
  ]
}